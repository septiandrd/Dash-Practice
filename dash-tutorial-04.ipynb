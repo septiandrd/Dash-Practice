{
 "cells": [
  {
   "cell_type": "code",
   "execution_count": 1,
   "metadata": {
    "collapsed": true
   },
   "outputs": [],
   "source": [
    "from textblob import TextBlob\n",
    "from vaderSentiment.vaderSentiment import SentimentIntensityAnalyzer"
   ]
  },
  {
   "cell_type": "code",
   "execution_count": 24,
   "metadata": {
    "collapsed": false
   },
   "outputs": [
    {
     "name": "stdout",
     "output_type": "stream",
     "text": [
      "Positive accuracy = 100.0% via 3789 samples\nNegative accuracy = 100.0% via 2072 samples\n"
     ]
    }
   ],
   "source": [
    "analysis = TextBlob(\"it is not best\")\n",
    "\n",
    "pos_count = 0\n",
    "pos_correct = 0\n",
    "\n",
    "with open(\"positive.txt\",\"r\") as f :\n",
    "    for line in f.read().split('\\n') :\n",
    "        analysis = TextBlob(line)\n",
    "        if analysis.sentiment.polarity >= 0.0001 :\n",
    "            if analysis.sentiment.polarity > 0 :\n",
    "                pos_correct += 1\n",
    "            pos_count+=1\n",
    "            \n",
    "neg_count = 0\n",
    "neg_correct = 0\n",
    "\n",
    "with open('negative.txt','r') as f :\n",
    "    for line in f.read().split('\\n') :\n",
    "        analysis = TextBlob(line)\n",
    "        if analysis.sentiment.polarity <= -0.0001 :\n",
    "            if analysis.sentiment.polarity < 0 :\n",
    "                neg_correct += 1\n",
    "            neg_count+=1\n",
    "            \n",
    "print('Positive accuracy = {}% via {} samples'.format(pos_correct/pos_count*100,pos_count))\n",
    "print('Negative accuracy = {}% via {} samples'.format(neg_correct/neg_count*100,neg_count))"
   ]
  },
  {
   "cell_type": "code",
   "execution_count": 20,
   "metadata": {},
   "outputs": [
    {
     "name": "stdout",
     "output_type": "stream",
     "text": [
      "Positive accuracy = 97.80668196888548% via 3921 samples\nNegative accuracy = 91.73343044428259% via 2746 samples\n"
     ]
    }
   ],
   "source": [
    "analyzer = SentimentIntensityAnalyzer()\n",
    "\n",
    "pos_count = 0\n",
    "pos_correct = 0\n",
    "\n",
    "with open('positive.txt','r') as f :\n",
    "    for line in f.read().split('\\n') :\n",
    "        vs = analyzer.polarity_scores(line)\n",
    "        if not vs['neg'] > 0.1 :\n",
    "            if vs['pos'] - vs['neg'] >= 0 :\n",
    "                pos_correct += 1  \n",
    "            pos_count+=1\n",
    "            \n",
    "neg_count = 0\n",
    "neg_correct = 0\n",
    "\n",
    "with open('negative.txt','r') as f :\n",
    "    for line in f.read().split('\\n') :\n",
    "        vs = analyzer.polarity_scores(line)\n",
    "        if not vs['pos'] > 0.1 :\n",
    "            if vs['pos'] - vs['neg'] <= 0 :    \n",
    "                neg_correct += 1\n",
    "            neg_count+=1\n",
    "        \n",
    "print('Positive accuracy = {}% via {} samples'.format(pos_correct/pos_count*100,pos_count))\n",
    "print('Negative accuracy = {}% via {} samples'.format(neg_correct/neg_count*100,neg_count))"
   ]
  },
  {
   "cell_type": "code",
   "execution_count": 20,
   "metadata": {},
   "outputs": [],
   "source": [
    ""
   ]
  },
  {
   "cell_type": "code",
   "execution_count": 17,
   "metadata": {},
   "outputs": [],
   "source": []
  },
  {
   "cell_type": "code",
   "execution_count": null,
   "metadata": {},
   "outputs": [],
   "source": []
  }
 ],
 "metadata": {
  "kernelspec": {
   "display_name": "Python 2",
   "language": "python",
   "name": "python2"
  },
  "language_info": {
   "codemirror_mode": {
    "name": "ipython",
    "version": 2
   },
   "file_extension": ".py",
   "mimetype": "text/x-python",
   "name": "python",
   "nbconvert_exporter": "python",
   "pygments_lexer": "ipython2",
   "version": "2.7.6"
  }
 },
 "nbformat": 4,
 "nbformat_minor": 0
}
