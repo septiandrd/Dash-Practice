{
 "cells": [
  {
   "cell_type": "code",
   "execution_count": 2,
   "metadata": {
    "collapsed": true
   },
   "outputs": [],
   "source": [
    "import dash\n",
    "import dash_core_components as dcc\n",
    "import dash_html_components as html\n",
    "import pandas_datareader.data as web\n",
    "import datetime\n",
    "import pandas as pd\n",
    "from datetime import datetime\n",
    "\n",
    "df = pd.read_csv('sementara-100.log',sep='\\s+',header=None)\n",
    "df[6] = df[1]+' '+df[2]\n",
    "waktu2time = lambda z: datetime.strptime(z,'%Y-%m-%d %H:%M:%S')\n",
    "df[7] = df[6].apply(waktu2time)\n",
    "weather = df.loc[:,[7,3,4,5]]\n",
    "df = pd.DataFrame(weather)\n",
    "df.rename(columns={7:'Datetime', 3:'ID', 4:'Temp', 5:'Humidity'},inplace=True)\n",
    "df.set_index('Datetime',inplace=True)"
   ]
  },
  {
   "cell_type": "code",
   "execution_count": 3,
   "metadata": {},
   "outputs": [
    {
     "name": "stderr",
     "output_type": "stream",
     "text": [
      " * Running on http://127.0.0.1:8050/ (Press CTRL+C to quit)\n"
     ]
    },
    {
     "name": "stderr",
     "output_type": "stream",
     "text": [
      "127.0.0.1 - - [18/Apr/2018 16:56:29] \"\u001b[37mGET / HTTP/1.1\u001b[0m\" 200 -\n"
     ]
    },
    {
     "name": "stderr",
     "output_type": "stream",
     "text": [
      "127.0.0.1 - - [18/Apr/2018 16:56:34] \"\u001b[37mGET /_dash-layout HTTP/1.1\u001b[0m\" 200 -\n"
     ]
    },
    {
     "name": "stderr",
     "output_type": "stream",
     "text": [
      "127.0.0.1 - - [18/Apr/2018 16:56:34] \"\u001b[37mGET /_dash-dependencies HTTP/1.1\u001b[0m\" 200 -\n"
     ]
    },
    {
     "name": "stderr",
     "output_type": "stream",
     "text": [
      "127.0.0.1 - - [18/Apr/2018 16:56:34] \"\u001b[37mGET /favicon.ico HTTP/1.1\u001b[0m\" 200 -\n"
     ]
    }
   ],
   "source": [
    "app = dash.Dash()\n",
    "\n",
    "app.layout = html.Div(children = [\n",
    "    html.H1(children = 'Hello Dash'),\n",
    "\n",
    "    html.Div(children = 'Dash : A web application framework for Python'),\n",
    "    \n",
    "    dcc.Graph(\n",
    "        id = 'graph1',\n",
    "        figure = {\n",
    "            'data' : [\n",
    "                {'x' : df.index, 'y' : df.Temp,'type' : 'line', 'name' : 'Temp'},\n",
    "                # {'x' : df.index, 'y' : df.Humidity,'type' : 'line', 'name' : 'Humidity'}\n",
    "            ],\n",
    "            'layout' : {\n",
    "                'title' : 'Temperature',\n",
    "                # 'yaxis' : {\n",
    "                #     'range' : [0,100]\n",
    "                # }\n",
    "            }\n",
    "        }\n",
    "    ),\n",
    "    \n",
    "    dcc.Graph(\n",
    "        id = 'graph2',\n",
    "        figure = {\n",
    "            'data' : [\n",
    "                # {'x' : df.index, 'y' : df.Temp,'type' : 'line', 'name' : 'Temp'},\n",
    "                {'x' : df.index, 'y' : df.Humidity,'type' : 'line', 'name' : 'Humidity'}\n",
    "            ],\n",
    "            'layout' : {\n",
    "                'title' : 'Humidity',\n",
    "                # 'yaxis' : {\n",
    "                #     'range' : [0,100]\n",
    "                # }\n",
    "            }\n",
    "        }\n",
    "    )\n",
    "])\n",
    "\n",
    "if __name__ == '__main__':\n",
    "    app.run_server(debug=False)"
   ]
  },
  {
   "cell_type": "code",
   "execution_count": null,
   "metadata": {
    "collapsed": true
   },
   "outputs": [],
   "source": []
  }
 ],
 "metadata": {
  "kernelspec": {
   "display_name": "Python 3",
   "language": "python",
   "name": "python3"
  },
  "language_info": {
   "codemirror_mode": {
    "name": "ipython",
    "version": 3
   },
   "file_extension": ".py",
   "mimetype": "text/x-python",
   "name": "python",
   "nbconvert_exporter": "python",
   "pygments_lexer": "ipython3",
   "version": "3.6.3"
  }
 },
 "nbformat": 4,
 "nbformat_minor": 1
}
